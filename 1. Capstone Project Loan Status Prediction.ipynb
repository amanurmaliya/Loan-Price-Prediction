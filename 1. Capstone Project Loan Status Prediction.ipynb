{
 "cells": [
  {
   "cell_type": "markdown",
   "id": "dd8163a7",
   "metadata": {},
   "source": [
    "# Business Problem UnderStanding\n",
    "Dream Housing Finance company deals in all kinds of home loans. They have presence across all urban, semi urban and rural areas. Customer first applies for home loan and after that company validates the customer eligibility for loan. \n",
    "\n",
    "Company wants to automate the loan eligibility process (real time) based on customer detail provided while filling  online application form. These details are Gender, Marital Status,Education, Number of Dependents, Income, Loan Amount, Credit History and others. To automate this process, they have provided a dataset to identify the customers segments that are eligible for loan amount so that they can specifically target these customers."
   ]
  },
  {
   "cell_type": "code",
   "execution_count": 1,
   "id": "75c36502",
   "metadata": {},
   "outputs": [],
   "source": [
    "import pandas as pd\n",
    "import numpy as np\n",
    "import seaborn as sns\n",
    "import matplotlib.pyplot as plt\n",
    "\n",
    "import warnings\n",
    "warnings.simplefilter('ignore')"
   ]
  },
  {
   "cell_type": "markdown",
   "id": "72c2ae1c",
   "metadata": {},
   "source": [
    "# UnderStanding the Data"
   ]
  },
  {
   "cell_type": "code",
   "execution_count": 2,
   "id": "fbe1e4fb",
   "metadata": {},
   "outputs": [
    {
     "data": {
      "text/html": [
       "<div>\n",
       "<style scoped>\n",
       "    .dataframe tbody tr th:only-of-type {\n",
       "        vertical-align: middle;\n",
       "    }\n",
       "\n",
       "    .dataframe tbody tr th {\n",
       "        vertical-align: top;\n",
       "    }\n",
       "\n",
       "    .dataframe thead th {\n",
       "        text-align: right;\n",
       "    }\n",
       "</style>\n",
       "<table border=\"1\" class=\"dataframe\">\n",
       "  <thead>\n",
       "    <tr style=\"text-align: right;\">\n",
       "      <th></th>\n",
       "      <th>Loan_ID</th>\n",
       "      <th>Gender</th>\n",
       "      <th>Married</th>\n",
       "      <th>Dependents</th>\n",
       "      <th>Education</th>\n",
       "      <th>Self_Employed</th>\n",
       "      <th>ApplicantIncome</th>\n",
       "      <th>CoapplicantIncome</th>\n",
       "      <th>LoanAmount</th>\n",
       "      <th>Loan_Amount_Term</th>\n",
       "      <th>Credit_History</th>\n",
       "      <th>Property_Area</th>\n",
       "      <th>Loan_Status</th>\n",
       "    </tr>\n",
       "  </thead>\n",
       "  <tbody>\n",
       "    <tr>\n",
       "      <th>0</th>\n",
       "      <td>LP001002</td>\n",
       "      <td>Male</td>\n",
       "      <td>No</td>\n",
       "      <td>0</td>\n",
       "      <td>Graduate</td>\n",
       "      <td>No</td>\n",
       "      <td>5849</td>\n",
       "      <td>0.0</td>\n",
       "      <td>NaN</td>\n",
       "      <td>360.0</td>\n",
       "      <td>1.0</td>\n",
       "      <td>Urban</td>\n",
       "      <td>Y</td>\n",
       "    </tr>\n",
       "    <tr>\n",
       "      <th>1</th>\n",
       "      <td>LP001003</td>\n",
       "      <td>Male</td>\n",
       "      <td>Yes</td>\n",
       "      <td>1</td>\n",
       "      <td>Graduate</td>\n",
       "      <td>No</td>\n",
       "      <td>4583</td>\n",
       "      <td>1508.0</td>\n",
       "      <td>128.0</td>\n",
       "      <td>360.0</td>\n",
       "      <td>1.0</td>\n",
       "      <td>Rural</td>\n",
       "      <td>N</td>\n",
       "    </tr>\n",
       "    <tr>\n",
       "      <th>2</th>\n",
       "      <td>LP001005</td>\n",
       "      <td>Male</td>\n",
       "      <td>Yes</td>\n",
       "      <td>0</td>\n",
       "      <td>Graduate</td>\n",
       "      <td>Yes</td>\n",
       "      <td>3000</td>\n",
       "      <td>0.0</td>\n",
       "      <td>66.0</td>\n",
       "      <td>360.0</td>\n",
       "      <td>1.0</td>\n",
       "      <td>Urban</td>\n",
       "      <td>Y</td>\n",
       "    </tr>\n",
       "    <tr>\n",
       "      <th>3</th>\n",
       "      <td>LP001006</td>\n",
       "      <td>Male</td>\n",
       "      <td>Yes</td>\n",
       "      <td>0</td>\n",
       "      <td>Not Graduate</td>\n",
       "      <td>No</td>\n",
       "      <td>2583</td>\n",
       "      <td>2358.0</td>\n",
       "      <td>120.0</td>\n",
       "      <td>360.0</td>\n",
       "      <td>1.0</td>\n",
       "      <td>Urban</td>\n",
       "      <td>Y</td>\n",
       "    </tr>\n",
       "    <tr>\n",
       "      <th>4</th>\n",
       "      <td>LP001008</td>\n",
       "      <td>Male</td>\n",
       "      <td>No</td>\n",
       "      <td>0</td>\n",
       "      <td>Graduate</td>\n",
       "      <td>No</td>\n",
       "      <td>6000</td>\n",
       "      <td>0.0</td>\n",
       "      <td>141.0</td>\n",
       "      <td>360.0</td>\n",
       "      <td>1.0</td>\n",
       "      <td>Urban</td>\n",
       "      <td>Y</td>\n",
       "    </tr>\n",
       "  </tbody>\n",
       "</table>\n",
       "</div>"
      ],
      "text/plain": [
       "    Loan_ID Gender Married Dependents     Education Self_Employed  \\\n",
       "0  LP001002   Male      No          0      Graduate            No   \n",
       "1  LP001003   Male     Yes          1      Graduate            No   \n",
       "2  LP001005   Male     Yes          0      Graduate           Yes   \n",
       "3  LP001006   Male     Yes          0  Not Graduate            No   \n",
       "4  LP001008   Male      No          0      Graduate            No   \n",
       "\n",
       "   ApplicantIncome  CoapplicantIncome  LoanAmount  Loan_Amount_Term  \\\n",
       "0             5849                0.0         NaN             360.0   \n",
       "1             4583             1508.0       128.0             360.0   \n",
       "2             3000                0.0        66.0             360.0   \n",
       "3             2583             2358.0       120.0             360.0   \n",
       "4             6000                0.0       141.0             360.0   \n",
       "\n",
       "   Credit_History Property_Area Loan_Status  \n",
       "0             1.0         Urban           Y  \n",
       "1             1.0         Rural           N  \n",
       "2             1.0         Urban           Y  \n",
       "3             1.0         Urban           Y  \n",
       "4             1.0         Urban           Y  "
      ]
     },
     "execution_count": 2,
     "metadata": {},
     "output_type": "execute_result"
    }
   ],
   "source": [
    "data = pd.read_csv(\"D://downloads//LoanData.csv\")\n",
    "data.head()"
   ]
  },
  {
   "cell_type": "code",
   "execution_count": 3,
   "id": "927e80a3",
   "metadata": {},
   "outputs": [
    {
     "name": "stdout",
     "output_type": "stream",
     "text": [
      "<class 'pandas.core.frame.DataFrame'>\n",
      "RangeIndex: 614 entries, 0 to 613\n",
      "Data columns (total 13 columns):\n",
      " #   Column             Non-Null Count  Dtype  \n",
      "---  ------             --------------  -----  \n",
      " 0   Loan_ID            614 non-null    object \n",
      " 1   Gender             601 non-null    object \n",
      " 2   Married            611 non-null    object \n",
      " 3   Dependents         599 non-null    object \n",
      " 4   Education          614 non-null    object \n",
      " 5   Self_Employed      582 non-null    object \n",
      " 6   ApplicantIncome    614 non-null    int64  \n",
      " 7   CoapplicantIncome  614 non-null    float64\n",
      " 8   LoanAmount         592 non-null    float64\n",
      " 9   Loan_Amount_Term   600 non-null    float64\n",
      " 10  Credit_History     564 non-null    float64\n",
      " 11  Property_Area      614 non-null    object \n",
      " 12  Loan_Status        614 non-null    object \n",
      "dtypes: float64(4), int64(1), object(8)\n",
      "memory usage: 62.5+ KB\n"
     ]
    }
   ],
   "source": [
    "data.info()"
   ]
  },
  {
   "cell_type": "code",
   "execution_count": 4,
   "id": "c6a98f3e",
   "metadata": {},
   "outputs": [
    {
     "data": {
      "text/plain": [
       "Index(['Loan_ID', 'Gender', 'Married', 'Dependents', 'Education',\n",
       "       'Self_Employed', 'ApplicantIncome', 'CoapplicantIncome', 'LoanAmount',\n",
       "       'Loan_Amount_Term', 'Credit_History', 'Property_Area', 'Loan_Status'],\n",
       "      dtype='object')"
      ]
     },
     "execution_count": 4,
     "metadata": {},
     "output_type": "execute_result"
    }
   ],
   "source": [
    "# Lets check the unique column name for the description\n",
    "data.columns"
   ]
  },
  {
   "cell_type": "markdown",
   "id": "fd0c655b",
   "metadata": {},
   "source": [
    "### DataSet Understanding\n",
    "\n",
    "* LoanID: Unique loan ID\n",
    "* Gender : Male / Female\n",
    "* Married : Person is married or not\n",
    "* Dependents : How many peoples are depend on the income of that person\n",
    "* Education : How much person has studied (Gratuated / Not)\n",
    "* Self_Employed : whether the person is doing the business of his / her own or not\n",
    "* ApplicantIncome : What is the salary of the person taking the loan\n",
    "* CoapplicantIncome : If the two persons are taking the loan together what is the his/her income\n",
    "* LoanAmount : How much loan is he taking in terms of thousands of dollars.\n",
    "* Loan_Amount_Term : Term of the loan in months\n",
    "* Credit_History : This is the amount that the loan is going upon you.\n",
    "* Property_Area : The property he ows is in which area\n",
    "* Loan_Status : Loan is approved or not (**Output Variable**)"
   ]
  },
  {
   "cell_type": "code",
   "execution_count": 5,
   "id": "e9bc44ed",
   "metadata": {},
   "outputs": [
    {
     "data": {
      "text/plain": [
       "array(['LP001002', 'LP001003', 'LP001005', 'LP001006', 'LP001008',\n",
       "       'LP001011', 'LP001013', 'LP001014', 'LP001018', 'LP001020',\n",
       "       'LP001024', 'LP001027', 'LP001028', 'LP001029', 'LP001030',\n",
       "       'LP001032', 'LP001034', 'LP001036', 'LP001038', 'LP001041',\n",
       "       'LP001043', 'LP001046', 'LP001047', 'LP001050', 'LP001052',\n",
       "       'LP001066', 'LP001068', 'LP001073', 'LP001086', 'LP001087',\n",
       "       'LP001091', 'LP001095', 'LP001097', 'LP001098', 'LP001100',\n",
       "       'LP001106', 'LP001109', 'LP001112', 'LP001114', 'LP001116',\n",
       "       'LP001119', 'LP001120', 'LP001123', 'LP001131', 'LP001136',\n",
       "       'LP001137', 'LP001138', 'LP001144', 'LP001146', 'LP001151',\n",
       "       'LP001155', 'LP001157', 'LP001164', 'LP001179', 'LP001186',\n",
       "       'LP001194', 'LP001195', 'LP001197', 'LP001198', 'LP001199',\n",
       "       'LP001205', 'LP001206', 'LP001207', 'LP001213', 'LP001222',\n",
       "       'LP001225', 'LP001228', 'LP001233', 'LP001238', 'LP001241',\n",
       "       'LP001243', 'LP001245', 'LP001248', 'LP001250', 'LP001253',\n",
       "       'LP001255', 'LP001256', 'LP001259', 'LP001263', 'LP001264',\n",
       "       'LP001265', 'LP001266', 'LP001267', 'LP001273', 'LP001275',\n",
       "       'LP001279', 'LP001280', 'LP001282', 'LP001289', 'LP001310',\n",
       "       'LP001316', 'LP001318', 'LP001319', 'LP001322', 'LP001325',\n",
       "       'LP001326', 'LP001327', 'LP001333', 'LP001334', 'LP001343',\n",
       "       'LP001345', 'LP001349', 'LP001350', 'LP001356', 'LP001357',\n",
       "       'LP001367', 'LP001369', 'LP001370', 'LP001379', 'LP001384',\n",
       "       'LP001385', 'LP001387', 'LP001391', 'LP001392', 'LP001398',\n",
       "       'LP001401', 'LP001404', 'LP001405', 'LP001421', 'LP001422',\n",
       "       'LP001426', 'LP001430', 'LP001431', 'LP001432', 'LP001439',\n",
       "       'LP001443', 'LP001448', 'LP001449', 'LP001451', 'LP001465',\n",
       "       'LP001469', 'LP001473', 'LP001478', 'LP001482', 'LP001487',\n",
       "       'LP001488', 'LP001489', 'LP001491', 'LP001492', 'LP001493',\n",
       "       'LP001497', 'LP001498', 'LP001504', 'LP001507', 'LP001508',\n",
       "       'LP001514', 'LP001516', 'LP001518', 'LP001519', 'LP001520',\n",
       "       'LP001528', 'LP001529', 'LP001531', 'LP001532', 'LP001535',\n",
       "       'LP001536', 'LP001541', 'LP001543', 'LP001546', 'LP001552',\n",
       "       'LP001560', 'LP001562', 'LP001565', 'LP001570', 'LP001572',\n",
       "       'LP001574', 'LP001577', 'LP001578', 'LP001579', 'LP001580',\n",
       "       'LP001581', 'LP001585', 'LP001586', 'LP001594', 'LP001603',\n",
       "       'LP001606', 'LP001608', 'LP001610', 'LP001616', 'LP001630',\n",
       "       'LP001633', 'LP001634', 'LP001636', 'LP001637', 'LP001639',\n",
       "       'LP001640', 'LP001641', 'LP001643', 'LP001644', 'LP001647',\n",
       "       'LP001653', 'LP001656', 'LP001657', 'LP001658', 'LP001664',\n",
       "       'LP001665', 'LP001666', 'LP001669', 'LP001671', 'LP001673',\n",
       "       'LP001674', 'LP001677', 'LP001682', 'LP001688', 'LP001691',\n",
       "       'LP001692', 'LP001693', 'LP001698', 'LP001699', 'LP001702',\n",
       "       'LP001708', 'LP001711', 'LP001713', 'LP001715', 'LP001716',\n",
       "       'LP001720', 'LP001722', 'LP001726', 'LP001732', 'LP001734',\n",
       "       'LP001736', 'LP001743', 'LP001744', 'LP001749', 'LP001750',\n",
       "       'LP001751', 'LP001754', 'LP001758', 'LP001760', 'LP001761',\n",
       "       'LP001765', 'LP001768', 'LP001770', 'LP001776', 'LP001778',\n",
       "       'LP001784', 'LP001786', 'LP001788', 'LP001790', 'LP001792',\n",
       "       'LP001798', 'LP001800', 'LP001806', 'LP001807', 'LP001811',\n",
       "       'LP001813', 'LP001814', 'LP001819', 'LP001824', 'LP001825',\n",
       "       'LP001835', 'LP001836', 'LP001841', 'LP001843', 'LP001844',\n",
       "       'LP001846', 'LP001849', 'LP001854', 'LP001859', 'LP001864',\n",
       "       'LP001865', 'LP001868', 'LP001870', 'LP001871', 'LP001872',\n",
       "       'LP001875', 'LP001877', 'LP001882', 'LP001883', 'LP001884',\n",
       "       'LP001888', 'LP001891', 'LP001892', 'LP001894', 'LP001896',\n",
       "       'LP001900', 'LP001903', 'LP001904', 'LP001907', 'LP001908',\n",
       "       'LP001910', 'LP001914', 'LP001915', 'LP001917', 'LP001922',\n",
       "       'LP001924', 'LP001925', 'LP001926', 'LP001931', 'LP001935',\n",
       "       'LP001936', 'LP001938', 'LP001940', 'LP001945', 'LP001947',\n",
       "       'LP001949', 'LP001953', 'LP001954', 'LP001955', 'LP001963',\n",
       "       'LP001964', 'LP001972', 'LP001974', 'LP001977', 'LP001978',\n",
       "       'LP001990', 'LP001993', 'LP001994', 'LP001996', 'LP001998',\n",
       "       'LP002002', 'LP002004', 'LP002006', 'LP002008', 'LP002024',\n",
       "       'LP002031', 'LP002035', 'LP002036', 'LP002043', 'LP002050',\n",
       "       'LP002051', 'LP002053', 'LP002054', 'LP002055', 'LP002065',\n",
       "       'LP002067', 'LP002068', 'LP002082', 'LP002086', 'LP002087',\n",
       "       'LP002097', 'LP002098', 'LP002100', 'LP002101', 'LP002103',\n",
       "       'LP002106', 'LP002110', 'LP002112', 'LP002113', 'LP002114',\n",
       "       'LP002115', 'LP002116', 'LP002119', 'LP002126', 'LP002128',\n",
       "       'LP002129', 'LP002130', 'LP002131', 'LP002137', 'LP002138',\n",
       "       'LP002139', 'LP002140', 'LP002141', 'LP002142', 'LP002143',\n",
       "       'LP002144', 'LP002149', 'LP002151', 'LP002158', 'LP002160',\n",
       "       'LP002161', 'LP002170', 'LP002175', 'LP002178', 'LP002180',\n",
       "       'LP002181', 'LP002187', 'LP002188', 'LP002190', 'LP002191',\n",
       "       'LP002194', 'LP002197', 'LP002201', 'LP002205', 'LP002209',\n",
       "       'LP002211', 'LP002219', 'LP002223', 'LP002224', 'LP002225',\n",
       "       'LP002226', 'LP002229', 'LP002231', 'LP002234', 'LP002236',\n",
       "       'LP002237', 'LP002239', 'LP002243', 'LP002244', 'LP002250',\n",
       "       'LP002255', 'LP002262', 'LP002263', 'LP002265', 'LP002266',\n",
       "       'LP002272', 'LP002277', 'LP002281', 'LP002284', 'LP002287',\n",
       "       'LP002288', 'LP002296', 'LP002297', 'LP002300', 'LP002301',\n",
       "       'LP002305', 'LP002308', 'LP002314', 'LP002315', 'LP002317',\n",
       "       'LP002318', 'LP002319', 'LP002328', 'LP002332', 'LP002335',\n",
       "       'LP002337', 'LP002341', 'LP002342', 'LP002345', 'LP002347',\n",
       "       'LP002348', 'LP002357', 'LP002361', 'LP002362', 'LP002364',\n",
       "       'LP002366', 'LP002367', 'LP002368', 'LP002369', 'LP002370',\n",
       "       'LP002377', 'LP002379', 'LP002386', 'LP002387', 'LP002390',\n",
       "       'LP002393', 'LP002398', 'LP002401', 'LP002403', 'LP002407',\n",
       "       'LP002408', 'LP002409', 'LP002418', 'LP002422', 'LP002424',\n",
       "       'LP002429', 'LP002434', 'LP002435', 'LP002443', 'LP002444',\n",
       "       'LP002446', 'LP002447', 'LP002448', 'LP002449', 'LP002453',\n",
       "       'LP002455', 'LP002459', 'LP002467', 'LP002472', 'LP002473',\n",
       "       'LP002478', 'LP002484', 'LP002487', 'LP002489', 'LP002493',\n",
       "       'LP002494', 'LP002500', 'LP002501', 'LP002502', 'LP002505',\n",
       "       'LP002515', 'LP002517', 'LP002519', 'LP002522', 'LP002524',\n",
       "       'LP002527', 'LP002529', 'LP002530', 'LP002531', 'LP002533',\n",
       "       'LP002534', 'LP002536', 'LP002537', 'LP002541', 'LP002543',\n",
       "       'LP002544', 'LP002545', 'LP002547', 'LP002555', 'LP002556',\n",
       "       'LP002560', 'LP002562', 'LP002571', 'LP002582', 'LP002585',\n",
       "       'LP002586', 'LP002587', 'LP002588', 'LP002600', 'LP002602',\n",
       "       'LP002603', 'LP002606', 'LP002615', 'LP002618', 'LP002619',\n",
       "       'LP002622', 'LP002624', 'LP002625', 'LP002626', 'LP002634',\n",
       "       'LP002637', 'LP002640', 'LP002643', 'LP002648', 'LP002652',\n",
       "       'LP002659', 'LP002670', 'LP002682', 'LP002683', 'LP002684',\n",
       "       'LP002689', 'LP002690', 'LP002692', 'LP002693', 'LP002697',\n",
       "       'LP002699', 'LP002705', 'LP002706', 'LP002714', 'LP002716',\n",
       "       'LP002717', 'LP002720', 'LP002723', 'LP002729', 'LP002731',\n",
       "       'LP002732', 'LP002734', 'LP002738', 'LP002739', 'LP002740',\n",
       "       'LP002741', 'LP002743', 'LP002753', 'LP002755', 'LP002757',\n",
       "       'LP002767', 'LP002768', 'LP002772', 'LP002776', 'LP002777',\n",
       "       'LP002778', 'LP002784', 'LP002785', 'LP002788', 'LP002789',\n",
       "       'LP002792', 'LP002794', 'LP002795', 'LP002798', 'LP002804',\n",
       "       'LP002807', 'LP002813', 'LP002820', 'LP002821', 'LP002832',\n",
       "       'LP002833', 'LP002836', 'LP002837', 'LP002840', 'LP002841',\n",
       "       'LP002842', 'LP002847', 'LP002855', 'LP002862', 'LP002863',\n",
       "       'LP002868', 'LP002872', 'LP002874', 'LP002877', 'LP002888',\n",
       "       'LP002892', 'LP002893', 'LP002894', 'LP002898', 'LP002911',\n",
       "       'LP002912', 'LP002916', 'LP002917', 'LP002925', 'LP002926',\n",
       "       'LP002928', 'LP002931', 'LP002933', 'LP002936', 'LP002938',\n",
       "       'LP002940', 'LP002941', 'LP002943', 'LP002945', 'LP002948',\n",
       "       'LP002949', 'LP002950', 'LP002953', 'LP002958', 'LP002959',\n",
       "       'LP002960', 'LP002961', 'LP002964', 'LP002974', 'LP002978',\n",
       "       'LP002979', 'LP002983', 'LP002984', 'LP002990'], dtype=object)"
      ]
     },
     "execution_count": 5,
     "metadata": {},
     "output_type": "execute_result"
    }
   ],
   "source": [
    "data['Loan_ID'].unique()"
   ]
  },
  {
   "cell_type": "code",
   "execution_count": 6,
   "id": "e9426995",
   "metadata": {},
   "outputs": [
    {
     "name": "stdout",
     "output_type": "stream",
     "text": [
      "614\n",
      "614\n"
     ]
    }
   ],
   "source": [
    "print(len(data['Loan_ID'].unique()))\n",
    "print(data['Loan_ID'].nunique())"
   ]
  },
  {
   "cell_type": "code",
   "execution_count": 7,
   "id": "e391c673",
   "metadata": {},
   "outputs": [],
   "source": [
    "data.drop(columns = ['Loan_ID'], inplace = True)"
   ]
  },
  {
   "cell_type": "code",
   "execution_count": 8,
   "id": "50a9044e",
   "metadata": {},
   "outputs": [
    {
     "name": "stdout",
     "output_type": "stream",
     "text": [
      "No of unique values in Gender : ['Male' 'Female' nan]\n"
     ]
    }
   ],
   "source": [
    "print(\"No of unique values in Gender :\",data[\"Gender\"].unique()) \n",
    "# discrete categorical ordianal variable"
   ]
  },
  {
   "cell_type": "code",
   "execution_count": 9,
   "id": "34f28ede",
   "metadata": {},
   "outputs": [
    {
     "data": {
      "text/plain": [
       "Male      489\n",
       "Female    112\n",
       "Name: Gender, dtype: int64"
      ]
     },
     "execution_count": 9,
     "metadata": {},
     "output_type": "execute_result"
    }
   ],
   "source": [
    "data.Gender.value_counts()"
   ]
  },
  {
   "cell_type": "code",
   "execution_count": 10,
   "id": "eb840280",
   "metadata": {},
   "outputs": [
    {
     "name": "stdout",
     "output_type": "stream",
     "text": [
      "No of unique values in married is : ['No' 'Yes' nan]\n"
     ]
    }
   ],
   "source": [
    "print(\"No of unique values in married is :\",data['Married'].unique())\n",
    "# categorical"
   ]
  },
  {
   "cell_type": "code",
   "execution_count": 11,
   "id": "248ec8a3",
   "metadata": {},
   "outputs": [
    {
     "data": {
      "text/plain": [
       "Yes    398\n",
       "No     213\n",
       "Name: Married, dtype: int64"
      ]
     },
     "execution_count": 11,
     "metadata": {},
     "output_type": "execute_result"
    }
   ],
   "source": [
    "data['Married'].value_counts()"
   ]
  },
  {
   "cell_type": "code",
   "execution_count": 12,
   "id": "5ef28c45",
   "metadata": {},
   "outputs": [
    {
     "name": "stdout",
     "output_type": "stream",
     "text": [
      "No of unique Values in dependents : ['0' '1' '2' '3+' nan]\n"
     ]
    }
   ],
   "source": [
    "print(\"No of unique Values in dependents :\",data['Dependents'].unique()) # count"
   ]
  },
  {
   "cell_type": "code",
   "execution_count": 13,
   "id": "beef03c9",
   "metadata": {},
   "outputs": [
    {
     "data": {
      "text/plain": [
       "0     345\n",
       "1     102\n",
       "2     101\n",
       "3+     51\n",
       "Name: Dependents, dtype: int64"
      ]
     },
     "execution_count": 13,
     "metadata": {},
     "output_type": "execute_result"
    }
   ],
   "source": [
    "data['Dependents'].value_counts()\n",
    "# here there is wrong data i.e., 3+\n",
    "# here basically it is discrete count variable i.e., it is must be in int but it is in object"
   ]
  },
  {
   "cell_type": "code",
   "execution_count": 14,
   "id": "b7fc1910",
   "metadata": {},
   "outputs": [
    {
     "name": "stdout",
     "output_type": "stream",
     "text": [
      "No of unique values in Self_Employed : ['No' 'Yes' nan]\n"
     ]
    }
   ],
   "source": [
    "print(\"No of unique values in Self_Employed :\", data['Self_Employed'].unique())"
   ]
  },
  {
   "cell_type": "code",
   "execution_count": 15,
   "id": "ae7867fc",
   "metadata": {},
   "outputs": [
    {
     "data": {
      "text/plain": [
       "No     500\n",
       "Yes     82\n",
       "Name: Self_Employed, dtype: int64"
      ]
     },
     "execution_count": 15,
     "metadata": {},
     "output_type": "execute_result"
    }
   ],
   "source": [
    "data['Self_Employed'].value_counts() # categorical"
   ]
  },
  {
   "cell_type": "code",
   "execution_count": 16,
   "id": "b602a995",
   "metadata": {},
   "outputs": [
    {
     "data": {
      "text/plain": [
       "array(['Graduate', 'Not Graduate'], dtype=object)"
      ]
     },
     "execution_count": 16,
     "metadata": {},
     "output_type": "execute_result"
    }
   ],
   "source": [
    "data['Education'].unique() # categorical"
   ]
  },
  {
   "cell_type": "code",
   "execution_count": 17,
   "id": "bed76b18",
   "metadata": {},
   "outputs": [
    {
     "data": {
      "text/plain": [
       "Graduate        480\n",
       "Not Graduate    134\n",
       "Name: Education, dtype: int64"
      ]
     },
     "execution_count": 17,
     "metadata": {},
     "output_type": "execute_result"
    }
   ],
   "source": [
    "data['Education'].value_counts()"
   ]
  },
  {
   "cell_type": "code",
   "execution_count": 18,
   "id": "561b06d9",
   "metadata": {},
   "outputs": [
    {
     "data": {
      "text/plain": [
       "array([360., 120., 240.,  nan, 180.,  60., 300., 480.,  36.,  84.,  12.])"
      ]
     },
     "execution_count": 18,
     "metadata": {},
     "output_type": "execute_result"
    }
   ],
   "source": [
    "data['Loan_Amount_Term'].unique() # count"
   ]
  },
  {
   "cell_type": "code",
   "execution_count": 19,
   "id": "fcc114af",
   "metadata": {},
   "outputs": [
    {
     "data": {
      "text/plain": [
       "360.0    512\n",
       "180.0     44\n",
       "480.0     15\n",
       "300.0     13\n",
       "240.0      4\n",
       "84.0       4\n",
       "120.0      3\n",
       "60.0       2\n",
       "36.0       2\n",
       "12.0       1\n",
       "Name: Loan_Amount_Term, dtype: int64"
      ]
     },
     "execution_count": 19,
     "metadata": {},
     "output_type": "execute_result"
    }
   ],
   "source": [
    "data['Loan_Amount_Term'].value_counts()"
   ]
  },
  {
   "cell_type": "code",
   "execution_count": 20,
   "id": "bf23054a",
   "metadata": {},
   "outputs": [
    {
     "data": {
      "text/plain": [
       "array(['Urban', 'Rural', 'Semiurban'], dtype=object)"
      ]
     },
     "execution_count": 20,
     "metadata": {},
     "output_type": "execute_result"
    }
   ],
   "source": [
    "data['Property_Area'].unique() # categorical"
   ]
  },
  {
   "cell_type": "code",
   "execution_count": 21,
   "id": "a1266442",
   "metadata": {},
   "outputs": [
    {
     "data": {
      "text/plain": [
       "Semiurban    233\n",
       "Urban        202\n",
       "Rural        179\n",
       "Name: Property_Area, dtype: int64"
      ]
     },
     "execution_count": 21,
     "metadata": {},
     "output_type": "execute_result"
    }
   ],
   "source": [
    "data['Property_Area'].value_counts()"
   ]
  },
  {
   "cell_type": "code",
   "execution_count": 22,
   "id": "75058699",
   "metadata": {},
   "outputs": [
    {
     "data": {
      "text/plain": [
       "array(['Y', 'N'], dtype=object)"
      ]
     },
     "execution_count": 22,
     "metadata": {},
     "output_type": "execute_result"
    }
   ],
   "source": [
    "data['Loan_Status'].unique() # categorical"
   ]
  },
  {
   "cell_type": "code",
   "execution_count": 23,
   "id": "78cc4ec9",
   "metadata": {},
   "outputs": [
    {
     "data": {
      "text/plain": [
       "Y    422\n",
       "N    192\n",
       "Name: Loan_Status, dtype: int64"
      ]
     },
     "execution_count": 23,
     "metadata": {},
     "output_type": "execute_result"
    }
   ],
   "source": [
    "data['Loan_Status'].value_counts()"
   ]
  },
  {
   "cell_type": "code",
   "execution_count": 24,
   "id": "6b924018",
   "metadata": {},
   "outputs": [
    {
     "data": {
      "text/plain": [
       "array([ 1.,  0., nan])"
      ]
     },
     "execution_count": 24,
     "metadata": {},
     "output_type": "execute_result"
    }
   ],
   "source": [
    "data['Credit_History'].unique()"
   ]
  },
  {
   "cell_type": "code",
   "execution_count": 25,
   "id": "cb544cfe",
   "metadata": {},
   "outputs": [
    {
     "data": {
      "text/plain": [
       "1.0    475\n",
       "0.0     89\n",
       "Name: Credit_History, dtype: int64"
      ]
     },
     "execution_count": 25,
     "metadata": {},
     "output_type": "execute_result"
    }
   ],
   "source": [
    "data['Credit_History'].value_counts()"
   ]
  },
  {
   "cell_type": "code",
   "execution_count": 26,
   "id": "e3171210",
   "metadata": {},
   "outputs": [],
   "source": [
    "contineous = ['ApplicantIncome', 'CoapplicantIncome','LoanAmount']\n",
    "\n",
    "\n",
    "discrete_categorical = ['Gender', 'Married', 'Education',\n",
    "       'Self_Employed','Credit_History', 'Property_Area', 'Loan_Status']\n",
    "\n",
    "\n",
    "discrete_count = ['Dependents','Loan_Amount_Term',]"
   ]
  },
  {
   "cell_type": "markdown",
   "id": "acda8b04",
   "metadata": {},
   "source": [
    "### Exploratory Data Analysis(EDA)\n",
    "#### For contineous variable"
   ]
  },
  {
   "cell_type": "code",
   "execution_count": 27,
   "id": "a66dc975",
   "metadata": {},
   "outputs": [
    {
     "data": {
      "text/html": [
       "<div>\n",
       "<style scoped>\n",
       "    .dataframe tbody tr th:only-of-type {\n",
       "        vertical-align: middle;\n",
       "    }\n",
       "\n",
       "    .dataframe tbody tr th {\n",
       "        vertical-align: top;\n",
       "    }\n",
       "\n",
       "    .dataframe thead th {\n",
       "        text-align: right;\n",
       "    }\n",
       "</style>\n",
       "<table border=\"1\" class=\"dataframe\">\n",
       "  <thead>\n",
       "    <tr style=\"text-align: right;\">\n",
       "      <th></th>\n",
       "      <th>ApplicantIncome</th>\n",
       "      <th>CoapplicantIncome</th>\n",
       "      <th>LoanAmount</th>\n",
       "    </tr>\n",
       "  </thead>\n",
       "  <tbody>\n",
       "    <tr>\n",
       "      <th>count</th>\n",
       "      <td>614.000000</td>\n",
       "      <td>614.000000</td>\n",
       "      <td>592.000000</td>\n",
       "    </tr>\n",
       "    <tr>\n",
       "      <th>mean</th>\n",
       "      <td>5403.459283</td>\n",
       "      <td>1621.245798</td>\n",
       "      <td>146.412162</td>\n",
       "    </tr>\n",
       "    <tr>\n",
       "      <th>std</th>\n",
       "      <td>6109.041673</td>\n",
       "      <td>2926.248369</td>\n",
       "      <td>85.587325</td>\n",
       "    </tr>\n",
       "    <tr>\n",
       "      <th>min</th>\n",
       "      <td>150.000000</td>\n",
       "      <td>0.000000</td>\n",
       "      <td>9.000000</td>\n",
       "    </tr>\n",
       "    <tr>\n",
       "      <th>25%</th>\n",
       "      <td>2877.500000</td>\n",
       "      <td>0.000000</td>\n",
       "      <td>100.000000</td>\n",
       "    </tr>\n",
       "    <tr>\n",
       "      <th>50%</th>\n",
       "      <td>3812.500000</td>\n",
       "      <td>1188.500000</td>\n",
       "      <td>128.000000</td>\n",
       "    </tr>\n",
       "    <tr>\n",
       "      <th>75%</th>\n",
       "      <td>5795.000000</td>\n",
       "      <td>2297.250000</td>\n",
       "      <td>168.000000</td>\n",
       "    </tr>\n",
       "    <tr>\n",
       "      <th>max</th>\n",
       "      <td>81000.000000</td>\n",
       "      <td>41667.000000</td>\n",
       "      <td>700.000000</td>\n",
       "    </tr>\n",
       "  </tbody>\n",
       "</table>\n",
       "</div>"
      ],
      "text/plain": [
       "       ApplicantIncome  CoapplicantIncome  LoanAmount\n",
       "count       614.000000         614.000000  592.000000\n",
       "mean       5403.459283        1621.245798  146.412162\n",
       "std        6109.041673        2926.248369   85.587325\n",
       "min         150.000000           0.000000    9.000000\n",
       "25%        2877.500000           0.000000  100.000000\n",
       "50%        3812.500000        1188.500000  128.000000\n",
       "75%        5795.000000        2297.250000  168.000000\n",
       "max       81000.000000       41667.000000  700.000000"
      ]
     },
     "execution_count": 27,
     "metadata": {},
     "output_type": "execute_result"
    }
   ],
   "source": [
    "data[contineous].describe()"
   ]
  },
  {
   "cell_type": "code",
   "execution_count": 28,
   "id": "7e7e2267",
   "metadata": {},
   "outputs": [
    {
     "data": {
      "image/png": "[encoded data removed]",
      "text/plain": [
       "<Figure size 1800x800 with 3 Axes>"
      ]
     },
     "metadata": {},
     "output_type": "display_data"
    }
   ],
   "source": [
    "plt.rcParams['figure.figsize'] = (18,8)\n",
    "\n",
    "plt.subplot(1,3,1)\n",
    "sns.histplot(data['ApplicantIncome'], kde = True)\n",
    "\n",
    "plt.subplot(1,3,2)\n",
    "sns.histplot(data['CoapplicantIncome'], kde = True)\n",
    "\n",
    "plt.subplot(1,3,3)\n",
    "sns.histplot(data['LoanAmount'], kde = True)\n",
    "\n",
    "plt.suptitle(\"UniVariate Analysis on Numerical Columns\")\n",
    "plt.show()"
   ]
  },
  {
   "cell_type": "markdown",
   "id": "9e328937",
   "metadata": {},
   "source": [
    "* It is right skewed "
   ]
  },
  {
   "cell_type": "code",
   "execution_count": 29,
   "id": "fc27b8a0",
   "metadata": {},
   "outputs": [
    {
     "data": {
      "text/plain": [
       "ApplicantIncome      6.539513\n",
       "CoapplicantIncome    7.491531\n",
       "LoanAmount           2.677552\n",
       "dtype: float64"
      ]
     },
     "execution_count": 29,
     "metadata": {},
     "output_type": "execute_result"
    }
   ],
   "source": [
    "data[contineous].skew()\n",
    "# all are right skewed"
   ]
  },
  {
   "cell_type": "code",
   "execution_count": 30,
   "id": "30b838ad",
   "metadata": {},
   "outputs": [
    {
     "data": {
      "image/png": "[encoded data removed]",
      "text/plain": [
       "<Figure size 750x750 with 12 Axes>"
      ]
     },
     "metadata": {},
     "output_type": "display_data"
    }
   ],
   "source": [
    "sns.pairplot(data[contineous])\n",
    "plt.show()"
   ]
  },
  {
   "cell_type": "code",
   "execution_count": 31,
   "id": "18d96f12",
   "metadata": {},
   "outputs": [
    {
     "data": {
      "image/png": "[encoded data removed]",
      "text/plain": [
       "<Figure size 1800x800 with 2 Axes>"
      ]
     },
     "metadata": {},
     "output_type": "display_data"
    }
   ],
   "source": [
    "sns.heatmap(data[contineous].corr(), annot = True)\n",
    "plt.show()"
   ]
  },
  {
   "cell_type": "markdown",
   "id": "ce4fa2d4",
   "metadata": {},
   "source": [
    "#### Checking the outliers forr all these three things"
   ]
  },
  {
   "cell_type": "code",
   "execution_count": 32,
   "id": "897f9155",
   "metadata": {},
   "outputs": [
    {
     "data": {
      "image/png": "[encoded data removed]",
      "text/plain": [
       "<Figure size 1800x800 with 3 Axes>"
      ]
     },
     "metadata": {},
     "output_type": "display_data"
    }
   ],
   "source": [
    "plt.subplot(1,3,1)\n",
    "sns.boxplot(y = data['ApplicantIncome'])\n",
    "\n",
    "plt.subplot(1,3,2)\n",
    "sns.boxplot(y = data['CoapplicantIncome'])\n",
    "\n",
    "plt.subplot(1,3,3)\n",
    "sns.boxplot(y = data['LoanAmount'])\n",
    "\n",
    "plt.suptitle('Outliers in the data')\n",
    "plt.show()\n",
    "\n",
    "# these three columns are having the outliers"
   ]
  },
  {
   "cell_type": "markdown",
   "id": "aac4e101",
   "metadata": {},
   "source": [
    "### For discrete Variables"
   ]
  },
  {
   "cell_type": "code",
   "execution_count": 33,
   "id": "9f2752a5",
   "metadata": {},
   "outputs": [
    {
     "data": {
      "text/html": [
       "<div>\n",
       "<style scoped>\n",
       "    .dataframe tbody tr th:only-of-type {\n",
       "        vertical-align: middle;\n",
       "    }\n",
       "\n",
       "    .dataframe tbody tr th {\n",
       "        vertical-align: top;\n",
       "    }\n",
       "\n",
       "    .dataframe thead th {\n",
       "        text-align: right;\n",
       "    }\n",
       "</style>\n",
       "<table border=\"1\" class=\"dataframe\">\n",
       "  <thead>\n",
       "    <tr style=\"text-align: right;\">\n",
       "      <th></th>\n",
       "      <th>Credit_History</th>\n",
       "    </tr>\n",
       "  </thead>\n",
       "  <tbody>\n",
       "    <tr>\n",
       "      <th>count</th>\n",
       "      <td>564.000000</td>\n",
       "    </tr>\n",
       "    <tr>\n",
       "      <th>mean</th>\n",
       "      <td>0.842199</td>\n",
       "    </tr>\n",
       "    <tr>\n",
       "      <th>std</th>\n",
       "      <td>0.364878</td>\n",
       "    </tr>\n",
       "    <tr>\n",
       "      <th>min</th>\n",
       "      <td>0.000000</td>\n",
       "    </tr>\n",
       "    <tr>\n",
       "      <th>25%</th>\n",
       "      <td>1.000000</td>\n",
       "    </tr>\n",
       "    <tr>\n",
       "      <th>50%</th>\n",
       "      <td>1.000000</td>\n",
       "    </tr>\n",
       "    <tr>\n",
       "      <th>75%</th>\n",
       "      <td>1.000000</td>\n",
       "    </tr>\n",
       "    <tr>\n",
       "      <th>max</th>\n",
       "      <td>1.000000</td>\n",
       "    </tr>\n",
       "  </tbody>\n",
       "</table>\n",
       "</div>"
      ],
      "text/plain": [
       "       Credit_History\n",
       "count      564.000000\n",
       "mean         0.842199\n",
       "std          0.364878\n",
       "min          0.000000\n",
       "25%          1.000000\n",
       "50%          1.000000\n",
       "75%          1.000000\n",
       "max          1.000000"
      ]
     },
     "execution_count": 33,
     "metadata": {},
     "output_type": "execute_result"
    }
   ],
   "source": [
    "data[discrete_categorical].describe()"
   ]
  },
  {
   "cell_type": "code",
   "execution_count": 34,
   "id": "fc229746",
   "metadata": {},
   "outputs": [
    {
     "data": {
      "text/html": [
       "<div>\n",
       "<style scoped>\n",
       "    .dataframe tbody tr th:only-of-type {\n",
       "        vertical-align: middle;\n",
       "    }\n",
       "\n",
       "    .dataframe tbody tr th {\n",
       "        vertical-align: top;\n",
       "    }\n",
       "\n",
       "    .dataframe thead th {\n",
       "        text-align: right;\n",
       "    }\n",
       "</style>\n",
       "<table border=\"1\" class=\"dataframe\">\n",
       "  <thead>\n",
       "    <tr style=\"text-align: right;\">\n",
       "      <th></th>\n",
       "      <th>Gender</th>\n",
       "      <th>Married</th>\n",
       "      <th>Education</th>\n",
       "      <th>Self_Employed</th>\n",
       "      <th>Credit_History</th>\n",
       "      <th>Property_Area</th>\n",
       "      <th>Loan_Status</th>\n",
       "    </tr>\n",
       "  </thead>\n",
       "  <tbody>\n",
       "    <tr>\n",
       "      <th>count</th>\n",
       "      <td>601</td>\n",
       "      <td>611</td>\n",
       "      <td>614</td>\n",
       "      <td>582</td>\n",
       "      <td>564.000000</td>\n",
       "      <td>614</td>\n",
       "      <td>614</td>\n",
       "    </tr>\n",
       "    <tr>\n",
       "      <th>unique</th>\n",
       "      <td>2</td>\n",
       "      <td>2</td>\n",
       "      <td>2</td>\n",
       "      <td>2</td>\n",
       "      <td>NaN</td>\n",
       "      <td>3</td>\n",
       "      <td>2</td>\n",
       "    </tr>\n",
       "    <tr>\n",
       "      <th>top</th>\n",
       "      <td>Male</td>\n",
       "      <td>Yes</td>\n",
       "      <td>Graduate</td>\n",
       "      <td>No</td>\n",
       "      <td>NaN</td>\n",
       "      <td>Semiurban</td>\n",
       "      <td>Y</td>\n",
       "    </tr>\n",
       "    <tr>\n",
       "      <th>freq</th>\n",
       "      <td>489</td>\n",
       "      <td>398</td>\n",
       "      <td>480</td>\n",
       "      <td>500</td>\n",
       "      <td>NaN</td>\n",
       "      <td>233</td>\n",
       "      <td>422</td>\n",
       "    </tr>\n",
       "    <tr>\n",
       "      <th>mean</th>\n",
       "      <td>NaN</td>\n",
       "      <td>NaN</td>\n",
       "      <td>NaN</td>\n",
       "      <td>NaN</td>\n",
       "      <td>0.842199</td>\n",
       "      <td>NaN</td>\n",
       "      <td>NaN</td>\n",
       "    </tr>\n",
       "    <tr>\n",
       "      <th>std</th>\n",
       "      <td>NaN</td>\n",
       "      <td>NaN</td>\n",
       "      <td>NaN</td>\n",
       "      <td>NaN</td>\n",
       "      <td>0.364878</td>\n",
       "      <td>NaN</td>\n",
       "      <td>NaN</td>\n",
       "    </tr>\n",
       "    <tr>\n",
       "      <th>min</th>\n",
       "      <td>NaN</td>\n",
       "      <td>NaN</td>\n",
       "      <td>NaN</td>\n",
       "      <td>NaN</td>\n",
       "      <td>0.000000</td>\n",
       "      <td>NaN</td>\n",
       "      <td>NaN</td>\n",
       "    </tr>\n",
       "    <tr>\n",
       "      <th>25%</th>\n",
       "      <td>NaN</td>\n",
       "      <td>NaN</td>\n",
       "      <td>NaN</td>\n",
       "      <td>NaN</td>\n",
       "      <td>1.000000</td>\n",
       "      <td>NaN</td>\n",
       "      <td>NaN</td>\n",
       "    </tr>\n",
       "    <tr>\n",
       "      <th>50%</th>\n",
       "      <td>NaN</td>\n",
       "      <td>NaN</td>\n",
       "      <td>NaN</td>\n",
       "      <td>NaN</td>\n",
       "      <td>1.000000</td>\n",
       "      <td>NaN</td>\n",
       "      <td>NaN</td>\n",
       "    </tr>\n",
       "    <tr>\n",
       "      <th>75%</th>\n",
       "      <td>NaN</td>\n",
       "      <td>NaN</td>\n",
       "      <td>NaN</td>\n",
       "      <td>NaN</td>\n",
       "      <td>1.000000</td>\n",
       "      <td>NaN</td>\n",
       "      <td>NaN</td>\n",
       "    </tr>\n",
       "    <tr>\n",
       "      <th>max</th>\n",
       "      <td>NaN</td>\n",
       "      <td>NaN</td>\n",
       "      <td>NaN</td>\n",
       "      <td>NaN</td>\n",
       "      <td>1.000000</td>\n",
       "      <td>NaN</td>\n",
       "      <td>NaN</td>\n",
       "    </tr>\n",
       "  </tbody>\n",
       "</table>\n",
       "</div>"
      ],
      "text/plain": [
       "       Gender Married Education Self_Employed  Credit_History Property_Area  \\\n",
       "count     601     611       614           582      564.000000           614   \n",
       "unique      2       2         2             2             NaN             3   \n",
       "top      Male     Yes  Graduate            No             NaN     Semiurban   \n",
       "freq      489     398       480           500             NaN           233   \n",
       "mean      NaN     NaN       NaN           NaN        0.842199           NaN   \n",
       "std       NaN     NaN       NaN           NaN        0.364878           NaN   \n",
       "min       NaN     NaN       NaN           NaN        0.000000           NaN   \n",
       "25%       NaN     NaN       NaN           NaN        1.000000           NaN   \n",
       "50%       NaN     NaN       NaN           NaN        1.000000           NaN   \n",
       "75%       NaN     NaN       NaN           NaN        1.000000           NaN   \n",
       "max       NaN     NaN       NaN           NaN        1.000000           NaN   \n",
       "\n",
       "       Loan_Status  \n",
       "count          614  \n",
       "unique           2  \n",
       "top              Y  \n",
       "freq           422  \n",
       "mean           NaN  \n",
       "std            NaN  \n",
       "min            NaN  \n",
       "25%            NaN  \n",
       "50%            NaN  \n",
       "75%            NaN  \n",
       "max            NaN  "
      ]
     },
     "execution_count": 34,
     "metadata": {},
     "output_type": "execute_result"
    }
   ],
   "source": [
    "data[discrete_categorical].describe(include = 'all')"
   ]
  },
  {
   "cell_type": "code",
   "execution_count": 35,
   "id": "4b717ffe",
   "metadata": {},
   "outputs": [
    {
     "data": {
      "text/plain": [
       "Index(['Gender', 'Married', 'Dependents', 'Education', 'Self_Employed',\n",
       "       'ApplicantIncome', 'CoapplicantIncome', 'LoanAmount',\n",
       "       'Loan_Amount_Term', 'Credit_History', 'Property_Area', 'Loan_Status'],\n",
       "      dtype='object')"
      ]
     },
     "execution_count": 35,
     "metadata": {},
     "output_type": "execute_result"
    }
   ],
   "source": [
    "data.columns"
   ]
  },
  {
   "cell_type": "code",
   "execution_count": 36,
   "id": "d6cc4f09",
   "metadata": {},
   "outputs": [
    {
     "data": {
      "image/png": "[encoded data removed]",
      "text/plain": [
       "<Figure size 1800x800 with 6 Axes>"
      ]
     },
     "metadata": {},
     "output_type": "display_data"
    }
   ],
   "source": [
    "plt.rcParams['figure.figsize'] = (18,8)\n",
    "\n",
    "plt.subplot(2, 3, 1)\n",
    "sns.countplot(y = data['Gender'])\n",
    "\n",
    "plt.subplot(2, 3, 2)\n",
    "sns.countplot(y = data['Married'])\n",
    "\n",
    "plt.subplot(2,3,3)\n",
    "sns.countplot(y = data['Self_Employed'])\n",
    "\n",
    "plt.subplot(2,3,4)\n",
    "sns.countplot(y = data['Property_Area'])\n",
    "\n",
    "plt.subplot(2,3,5)\n",
    "sns.countplot(y = data['Education'])\n",
    "\n",
    "plt.subplot(2,3,6)\n",
    "sns.countplot(y = data['Loan_Status'])\n",
    "\n",
    "plt.suptitle(\"Univarient Analysis on Categorical Columns\")\n",
    "plt.show()"
   ]
  },
  {
   "cell_type": "markdown",
   "id": "fa09753e",
   "metadata": {},
   "source": [
    "# Data Preparation"
   ]
  },
  {
   "cell_type": "code",
   "execution_count": 37,
   "id": "fa58f7d2",
   "metadata": {},
   "outputs": [],
   "source": [
    "data['Income'] = data['ApplicantIncome'] + data['CoapplicantIncome']\n",
    "\n",
    "data.drop(columns = ['ApplicantIncome','CoapplicantIncome'], inplace = True)"
   ]
  },
  {
   "cell_type": "markdown",
   "id": "84b4e883",
   "metadata": {},
   "source": [
    "#### Modifying the wrong data "
   ]
  },
  {
   "cell_type": "code",
   "execution_count": 38,
   "id": "bd397d6b",
   "metadata": {},
   "outputs": [],
   "source": [
    "data['Dependents'].replace({'3+':3}, inplace = True)"
   ]
  },
  {
   "cell_type": "markdown",
   "id": "bf3ae371",
   "metadata": {},
   "source": [
    "#### Missing values treatment"
   ]
  },
  {
   "cell_type": "code",
   "execution_count": 39,
   "id": "169d0173",
   "metadata": {},
   "outputs": [
    {
     "data": {
      "text/plain": [
       "Gender              13\n",
       "Married              3\n",
       "Dependents          15\n",
       "Education            0\n",
       "Self_Employed       32\n",
       "LoanAmount          22\n",
       "Loan_Amount_Term    14\n",
       "Credit_History      50\n",
       "Property_Area        0\n",
       "Loan_Status          0\n",
       "Income               0\n",
       "dtype: int64"
      ]
     },
     "execution_count": 39,
     "metadata": {},
     "output_type": "execute_result"
    }
   ],
   "source": [
    "# Checking the number of missing values\n",
    "data.isnull().sum()"
   ]
  },
  {
   "cell_type": "code",
   "execution_count": 40,
   "id": "25d6dcb8",
   "metadata": {},
   "outputs": [
    {
     "data": {
      "text/plain": [
       "Gender              2.117264\n",
       "Married             0.488599\n",
       "Dependents          2.442997\n",
       "Education           0.000000\n",
       "Self_Employed       5.211726\n",
       "LoanAmount          3.583062\n",
       "Loan_Amount_Term    2.280130\n",
       "Credit_History      8.143322\n",
       "Property_Area       0.000000\n",
       "Loan_Status         0.000000\n",
       "Income              0.000000\n",
       "dtype: float64"
      ]
     },
     "execution_count": 40,
     "metadata": {},
     "output_type": "execute_result"
    }
   ],
   "source": [
    "(data.isna().sum()*100)/len(data)"
   ]
  },
  {
   "cell_type": "code",
   "execution_count": 41,
   "id": "d17bb6ba",
   "metadata": {},
   "outputs": [
    {
     "data": {
      "text/plain": [
       "Gender              12\n",
       "Married              2\n",
       "Dependents          12\n",
       "Education            0\n",
       "Self_Employed       25\n",
       "LoanAmount           0\n",
       "Loan_Amount_Term     0\n",
       "Credit_History       0\n",
       "Property_Area        0\n",
       "Loan_Status          0\n",
       "Income               0\n",
       "dtype: int64"
      ]
     },
     "execution_count": 41,
     "metadata": {},
     "output_type": "execute_result"
    }
   ],
   "source": [
    "data = data.dropna(subset = ['Income','LoanAmount','Loan_Amount_Term','Credit_History'])\n",
    "data.isna().sum()"
   ]
  },
  {
   "cell_type": "code",
   "execution_count": 42,
   "id": "2ebae883",
   "metadata": {},
   "outputs": [],
   "source": [
    "data['Dependents'].fillna(0, inplace = True)"
   ]
  },
  {
   "cell_type": "code",
   "execution_count": 43,
   "id": "48676ce4",
   "metadata": {},
   "outputs": [],
   "source": [
    "data['Gender'].fillna(data.Gender.mode()[0], inplace = True)\n",
    "data['Married'].fillna(data['Married'].mode()[0], inplace = True)\n",
    "data['Self_Employed'].fillna(data['Self_Employed'].mode()[0], inplace = True)"
   ]
  },
  {
   "cell_type": "code",
   "execution_count": 44,
   "id": "06c08428",
   "metadata": {},
   "outputs": [
    {
     "data": {
      "text/plain": [
       "Gender              0\n",
       "Married             0\n",
       "Dependents          0\n",
       "Education           0\n",
       "Self_Employed       0\n",
       "LoanAmount          0\n",
       "Loan_Amount_Term    0\n",
       "Credit_History      0\n",
       "Property_Area       0\n",
       "Loan_Status         0\n",
       "Income              0\n",
       "dtype: int64"
      ]
     },
     "execution_count": 44,
     "metadata": {},
     "output_type": "execute_result"
    }
   ],
   "source": [
    "data.isna().sum()"
   ]
  },
  {
   "cell_type": "markdown",
   "id": "8fc5f111",
   "metadata": {},
   "source": [
    "#### Outlier Treatment\n",
    "#### Encoding"
   ]
  },
  {
   "cell_type": "code",
   "execution_count": 45,
   "id": "1a5d74a8",
   "metadata": {},
   "outputs": [],
   "source": [
    "data['Self_Employed'].replace({'No':0,'Yes':1}, inplace = True)\n",
    "data['Education'].replace({'Graduate':1,'Not Graduate':0}, inplace = True)\n",
    "data['Gender'] = data['Gender'].map({'Male':1, 'Female':0}).astype('int')\n",
    "data['Married'] = data['Married'].map({'Yes':1,'No':0}).astype('int')\n",
    "data['Property_Area'] = data['Property_Area'].map({'Rural':0,'Semiurban':1,'Urban':2}).astype('int')"
   ]
  },
  {
   "cell_type": "code",
   "execution_count": 46,
   "id": "3314b757",
   "metadata": {},
   "outputs": [],
   "source": [
    "data['Loan_Status'] = data['Loan_Status'].map({'Y':1,'N':0}).astype('int')"
   ]
  },
  {
   "cell_type": "code",
   "execution_count": 47,
   "id": "93eedac3",
   "metadata": {},
   "outputs": [
    {
     "data": {
      "text/plain": [
       "array(['1', '0', '2', 3, 0], dtype=object)"
      ]
     },
     "execution_count": 47,
     "metadata": {},
     "output_type": "execute_result"
    }
   ],
   "source": [
    "data['Dependents'].replace({'3+':3}, inplace = True)\n",
    "data.Dependents.unique()"
   ]
  },
  {
   "cell_type": "code",
   "execution_count": 48,
   "id": "ef519af0",
   "metadata": {},
   "outputs": [
    {
     "data": {
      "text/plain": [
       "Gender                int32\n",
       "Married               int32\n",
       "Dependents           object\n",
       "Education             int64\n",
       "Self_Employed         int64\n",
       "LoanAmount          float64\n",
       "Loan_Amount_Term    float64\n",
       "Credit_History      float64\n",
       "Property_Area         int32\n",
       "Loan_Status           int32\n",
       "Income              float64\n",
       "dtype: object"
      ]
     },
     "execution_count": 48,
     "metadata": {},
     "output_type": "execute_result"
    }
   ],
   "source": [
    "data.dtypes"
   ]
  },
  {
   "cell_type": "code",
   "execution_count": 49,
   "id": "442b4bae",
   "metadata": {},
   "outputs": [],
   "source": [
    "data['Dependents'] = data['Dependents'].astype('int')\n",
    "data['Loan_Amount_Term'] = data['Loan_Amount_Term'].astype('int')"
   ]
  },
  {
   "cell_type": "code",
   "execution_count": 50,
   "id": "6aea2738",
   "metadata": {},
   "outputs": [
    {
     "data": {
      "text/plain": [
       "Gender                int32\n",
       "Married               int32\n",
       "Dependents            int32\n",
       "Education             int64\n",
       "Self_Employed         int64\n",
       "LoanAmount          float64\n",
       "Loan_Amount_Term      int32\n",
       "Credit_History      float64\n",
       "Property_Area         int32\n",
       "Loan_Status           int32\n",
       "Income              float64\n",
       "dtype: object"
      ]
     },
     "execution_count": 50,
     "metadata": {},
     "output_type": "execute_result"
    }
   ],
   "source": [
    "data.dtypes"
   ]
  },
  {
   "cell_type": "markdown",
   "id": "aba8bbb7",
   "metadata": {},
   "source": [
    "#### Tranformations"
   ]
  },
  {
   "cell_type": "code",
   "execution_count": 51,
   "id": "cb89d642",
   "metadata": {},
   "outputs": [
    {
     "data": {
      "text/plain": [
       "Income        5.777628\n",
       "LoanAmount    2.607945\n",
       "dtype: float64"
      ]
     },
     "execution_count": 51,
     "metadata": {},
     "output_type": "execute_result"
    }
   ],
   "source": [
    "data[['Income','LoanAmount']].skew()"
   ]
  },
  {
   "cell_type": "code",
   "execution_count": 52,
   "id": "39ce8846",
   "metadata": {},
   "outputs": [],
   "source": [
    "from scipy.stats import boxcox\n",
    "data['Income'], a = boxcox(data['Income'])\n",
    "data['LoanAmount'], c = boxcox(data['LoanAmount'])"
   ]
  },
  {
   "cell_type": "code",
   "execution_count": 53,
   "id": "4c7ae02c",
   "metadata": {},
   "outputs": [
    {
     "data": {
      "text/plain": [
       "Income       -0.027769\n",
       "LoanAmount    0.038289\n",
       "dtype: float64"
      ]
     },
     "execution_count": 53,
     "metadata": {},
     "output_type": "execute_result"
    }
   ],
   "source": [
    "data[['Income','LoanAmount']].skew()"
   ]
  },
  {
   "cell_type": "code",
   "execution_count": 54,
   "id": "d9e92f6a",
   "metadata": {},
   "outputs": [],
   "source": [
    "data['Loan_Amount_Term'] = data['Loan_Amount_Term']/12"
   ]
  },
  {
   "cell_type": "code",
   "execution_count": 55,
   "id": "980a1223",
   "metadata": {},
   "outputs": [
    {
     "data": {
      "text/html": [
       "<div>\n",
       "<style scoped>\n",
       "    .dataframe tbody tr th:only-of-type {\n",
       "        vertical-align: middle;\n",
       "    }\n",
       "\n",
       "    .dataframe tbody tr th {\n",
       "        vertical-align: top;\n",
       "    }\n",
       "\n",
       "    .dataframe thead th {\n",
       "        text-align: right;\n",
       "    }\n",
       "</style>\n",
       "<table border=\"1\" class=\"dataframe\">\n",
       "  <thead>\n",
       "    <tr style=\"text-align: right;\">\n",
       "      <th></th>\n",
       "      <th>Gender</th>\n",
       "      <th>Married</th>\n",
       "      <th>Dependents</th>\n",
       "      <th>Education</th>\n",
       "      <th>Self_Employed</th>\n",
       "      <th>LoanAmount</th>\n",
       "      <th>Loan_Amount_Term</th>\n",
       "      <th>Credit_History</th>\n",
       "      <th>Property_Area</th>\n",
       "      <th>Loan_Status</th>\n",
       "      <th>Income</th>\n",
       "    </tr>\n",
       "  </thead>\n",
       "  <tbody>\n",
       "    <tr>\n",
       "      <th>1</th>\n",
       "      <td>1</td>\n",
       "      <td>1</td>\n",
       "      <td>1</td>\n",
       "      <td>1</td>\n",
       "      <td>0</td>\n",
       "      <td>6.243267</td>\n",
       "      <td>30.0</td>\n",
       "      <td>1.0</td>\n",
       "      <td>0</td>\n",
       "      <td>0</td>\n",
       "      <td>1.864967</td>\n",
       "    </tr>\n",
       "    <tr>\n",
       "      <th>2</th>\n",
       "      <td>1</td>\n",
       "      <td>1</td>\n",
       "      <td>0</td>\n",
       "      <td>1</td>\n",
       "      <td>1</td>\n",
       "      <td>5.202610</td>\n",
       "      <td>30.0</td>\n",
       "      <td>1.0</td>\n",
       "      <td>2</td>\n",
       "      <td>1</td>\n",
       "      <td>1.856556</td>\n",
       "    </tr>\n",
       "    <tr>\n",
       "      <th>3</th>\n",
       "      <td>1</td>\n",
       "      <td>1</td>\n",
       "      <td>0</td>\n",
       "      <td>0</td>\n",
       "      <td>0</td>\n",
       "      <td>6.138816</td>\n",
       "      <td>30.0</td>\n",
       "      <td>1.0</td>\n",
       "      <td>2</td>\n",
       "      <td>1</td>\n",
       "      <td>1.862802</td>\n",
       "    </tr>\n",
       "    <tr>\n",
       "      <th>4</th>\n",
       "      <td>1</td>\n",
       "      <td>0</td>\n",
       "      <td>0</td>\n",
       "      <td>1</td>\n",
       "      <td>0</td>\n",
       "      <td>6.401083</td>\n",
       "      <td>30.0</td>\n",
       "      <td>1.0</td>\n",
       "      <td>2</td>\n",
       "      <td>1</td>\n",
       "      <td>1.864819</td>\n",
       "    </tr>\n",
       "    <tr>\n",
       "      <th>5</th>\n",
       "      <td>1</td>\n",
       "      <td>1</td>\n",
       "      <td>2</td>\n",
       "      <td>1</td>\n",
       "      <td>1</td>\n",
       "      <td>7.481930</td>\n",
       "      <td>30.0</td>\n",
       "      <td>1.0</td>\n",
       "      <td>2</td>\n",
       "      <td>1</td>\n",
       "      <td>1.868932</td>\n",
       "    </tr>\n",
       "    <tr>\n",
       "      <th>...</th>\n",
       "      <td>...</td>\n",
       "      <td>...</td>\n",
       "      <td>...</td>\n",
       "      <td>...</td>\n",
       "      <td>...</td>\n",
       "      <td>...</td>\n",
       "      <td>...</td>\n",
       "      <td>...</td>\n",
       "      <td>...</td>\n",
       "      <td>...</td>\n",
       "      <td>...</td>\n",
       "    </tr>\n",
       "    <tr>\n",
       "      <th>609</th>\n",
       "      <td>0</td>\n",
       "      <td>0</td>\n",
       "      <td>0</td>\n",
       "      <td>1</td>\n",
       "      <td>0</td>\n",
       "      <td>5.313992</td>\n",
       "      <td>30.0</td>\n",
       "      <td>1.0</td>\n",
       "      <td>0</td>\n",
       "      <td>1</td>\n",
       "      <td>1.856069</td>\n",
       "    </tr>\n",
       "    <tr>\n",
       "      <th>610</th>\n",
       "      <td>1</td>\n",
       "      <td>1</td>\n",
       "      <td>3</td>\n",
       "      <td>1</td>\n",
       "      <td>0</td>\n",
       "      <td>4.460305</td>\n",
       "      <td>15.0</td>\n",
       "      <td>1.0</td>\n",
       "      <td>0</td>\n",
       "      <td>1</td>\n",
       "      <td>1.860675</td>\n",
       "    </tr>\n",
       "    <tr>\n",
       "      <th>611</th>\n",
       "      <td>1</td>\n",
       "      <td>1</td>\n",
       "      <td>1</td>\n",
       "      <td>1</td>\n",
       "      <td>0</td>\n",
       "      <td>7.388070</td>\n",
       "      <td>30.0</td>\n",
       "      <td>1.0</td>\n",
       "      <td>2</td>\n",
       "      <td>1</td>\n",
       "      <td>1.867771</td>\n",
       "    </tr>\n",
       "    <tr>\n",
       "      <th>612</th>\n",
       "      <td>1</td>\n",
       "      <td>1</td>\n",
       "      <td>2</td>\n",
       "      <td>1</td>\n",
       "      <td>0</td>\n",
       "      <td>6.870558</td>\n",
       "      <td>30.0</td>\n",
       "      <td>1.0</td>\n",
       "      <td>2</td>\n",
       "      <td>1</td>\n",
       "      <td>1.866991</td>\n",
       "    </tr>\n",
       "    <tr>\n",
       "      <th>613</th>\n",
       "      <td>0</td>\n",
       "      <td>0</td>\n",
       "      <td>0</td>\n",
       "      <td>1</td>\n",
       "      <td>1</td>\n",
       "      <td>6.305602</td>\n",
       "      <td>30.0</td>\n",
       "      <td>0.0</td>\n",
       "      <td>1</td>\n",
       "      <td>0</td>\n",
       "      <td>1.861963</td>\n",
       "    </tr>\n",
       "  </tbody>\n",
       "</table>\n",
       "<p>529 rows × 11 columns</p>\n",
       "</div>"
      ],
      "text/plain": [
       "     Gender  Married  Dependents  Education  Self_Employed  LoanAmount  \\\n",
       "1         1        1           1          1              0    6.243267   \n",
       "2         1        1           0          1              1    5.202610   \n",
       "3         1        1           0          0              0    6.138816   \n",
       "4         1        0           0          1              0    6.401083   \n",
       "5         1        1           2          1              1    7.481930   \n",
       "..      ...      ...         ...        ...            ...         ...   \n",
       "609       0        0           0          1              0    5.313992   \n",
       "610       1        1           3          1              0    4.460305   \n",
       "611       1        1           1          1              0    7.388070   \n",
       "612       1        1           2          1              0    6.870558   \n",
       "613       0        0           0          1              1    6.305602   \n",
       "\n",
       "     Loan_Amount_Term  Credit_History  Property_Area  Loan_Status    Income  \n",
       "1                30.0             1.0              0            0  1.864967  \n",
       "2                30.0             1.0              2            1  1.856556  \n",
       "3                30.0             1.0              2            1  1.862802  \n",
       "4                30.0             1.0              2            1  1.864819  \n",
       "5                30.0             1.0              2            1  1.868932  \n",
       "..                ...             ...            ...          ...       ...  \n",
       "609              30.0             1.0              0            1  1.856069  \n",
       "610              15.0             1.0              0            1  1.860675  \n",
       "611              30.0             1.0              2            1  1.867771  \n",
       "612              30.0             1.0              2            1  1.866991  \n",
       "613              30.0             0.0              1            0  1.861963  \n",
       "\n",
       "[529 rows x 11 columns]"
      ]
     },
     "execution_count": 55,
     "metadata": {},
     "output_type": "execute_result"
    }
   ],
   "source": [
    "data"
   ]
  },
  {
   "cell_type": "code",
   "execution_count": 56,
   "id": "804de708",
   "metadata": {},
   "outputs": [],
   "source": [
    "# Taking the x & y variable \n",
    "X = data.drop('Loan_Status', axis = 1)\n",
    "y = data['Loan_Status']"
   ]
  },
  {
   "cell_type": "markdown",
   "id": "62c50105",
   "metadata": {},
   "source": [
    "#### Identify the best random state number"
   ]
  },
  {
   "cell_type": "code",
   "execution_count": 68,
   "id": "e47d97ad",
   "metadata": {},
   "outputs": [
    {
     "name": "stdout",
     "output_type": "stream",
     "text": [
      "Best Random_state number: 70\n"
     ]
    }
   ],
   "source": [
    "import pandas as pd\n",
    "from sklearn.model_selection import train_test_split\n",
    "from sklearn.linear_model import LogisticRegression\n",
    "from sklearn.metrics import accuracy_score\n",
    "from sklearn.model_selection import cross_val_score\n",
    "\n",
    "# Assuming X and y are defined somewhere before this code snippet\n",
    "\n",
    "Train = []\n",
    "Test = []\n",
    "CV = []\n",
    "\n",
    "for i in range(0, 101):\n",
    "    X_train, X_test, y_train, y_test = train_test_split(X, y, test_size=0.2, random_state=i)\n",
    "\n",
    "    log_default = LogisticRegression(random_state=42)  # Set a fixed random state for reproducibility\n",
    "    log_default.fit(X_train, y_train)\n",
    "\n",
    "    ypred_train = log_default.predict(X_train)\n",
    "    ypred_test = log_default.predict(X_test)\n",
    "\n",
    "    Train.append(accuracy_score(y_train, ypred_train))\n",
    "    Test.append(accuracy_score(y_test, ypred_test))\n",
    "\n",
    "    cv_scores = cross_val_score(log_default, X_train, y_train, cv=5, scoring='accuracy')\n",
    "    CV.append(cv_scores.mean())  # Use the mean of cross-validation scores\n",
    "\n",
    "em = pd.DataFrame({'Train': Train, \"Test\": Test, \"CV\": CV})\n",
    "gm = em[(abs(em['Train'] - em['Test']) <= 0.05) & (abs(em['Test'] - em['CV']) <= 0.05)]\n",
    "\n",
    "if not gm.empty:\n",
    "    rs = gm[gm['CV'] == gm['CV'].max()].index.to_list()[0]\n",
    "    print(\"Best Random_state number:\", rs)\n",
    "else:\n",
    "    print(\"No suitable random state found.\")\n"
   ]
  },
  {
   "cell_type": "markdown",
   "id": "fb82d374",
   "metadata": {},
   "source": [
    "#### train_test_split"
   ]
  },
  {
   "cell_type": "code",
   "execution_count": 58,
   "id": "d6b502a0",
   "metadata": {},
   "outputs": [],
   "source": [
    "from sklearn.model_selection import train_test_split\n",
    "X_train, X_test, y_train, y_test = train_test_split(X,y , test_size = 0.2, random_state = 70)"
   ]
  },
  {
   "cell_type": "markdown",
   "id": "22866aa3",
   "metadata": {},
   "source": [
    "# Step 4, 5: Machine Learning Modelling & Evalution\n",
    "#### 1. Logistic Regression"
   ]
  },
  {
   "cell_type": "code",
   "execution_count": 59,
   "id": "7a325bb4",
   "metadata": {},
   "outputs": [
    {
     "name": "stdout",
     "output_type": "stream",
     "text": [
      "Train Accuracy : 0.8226950354609929\n",
      "Test ACcuracy : 0.7830188679245284\n",
      "Cross Validation Score : [0.82352941 0.8        0.81176471 0.83333333 0.8452381 ]\n"
     ]
    }
   ],
   "source": [
    "from sklearn.linear_model import LogisticRegression\n",
    "log_model = LogisticRegression()\n",
    "log_model.fit(X_train, y_train)\n",
    "\n",
    "ypred_train = log_model.predict(X_train)\n",
    "ypred_test = log_model.predict(X_test)\n",
    "\n",
    "print(\"Train Accuracy :\", accuracy_score(y_train, ypred_train))\n",
    "print(\"Test ACcuracy :\", accuracy_score(y_test, ypred_test))\n",
    "print(\"Cross Validation Score :\", cross_val_score(log_model, X_train, y_train, cv = 5, scoring = 'accuracy'))"
   ]
  },
  {
   "cell_type": "markdown",
   "id": "72dbb13c",
   "metadata": {},
   "source": [
    "* **Logistic Regression - Good Model**\n",
    "#### 2. KNN"
   ]
  },
  {
   "cell_type": "code",
   "execution_count": 60,
   "id": "275beb5f",
   "metadata": {},
   "outputs": [
    {
     "name": "stdout",
     "output_type": "stream",
     "text": [
      "Getting the best neighbors for checking whether it is within the limit / not : KNeighborsClassifier(n_neighbors=13)\n",
      "Train Accuracy : 0.7541371158392435\n",
      "Test ACcuracy : 0.7075471698113207\n",
      "Cross Validation Score : [0.72941176 0.74117647 0.74117647 0.73809524 0.73809524]\n"
     ]
    }
   ],
   "source": [
    "from sklearn.neighbors import KNeighborsClassifier\n",
    "\n",
    "estimator = KNeighborsClassifier()\n",
    "param_grid = {'n_neighbors':list(range(1, 50))}\n",
    "\n",
    "from sklearn.model_selection import GridSearchCV\n",
    "knn_grid = GridSearchCV(estimator, param_grid, scoring= 'accuracy', cv = 5)\n",
    "knn_grid.fit(X_train, y_train)\n",
    "\n",
    "print(\"Getting the best neighbors for checking whether it is within the limit / not :\",\n",
    "      knn_grid.best_estimator_)\n",
    "\n",
    "knn_model = knn_grid.best_estimator_\n",
    "\n",
    "ypred_train = knn_model.predict(X_train)\n",
    "ypred_test = knn_model.predict(X_test)\n",
    "\n",
    "print(\"Train Accuracy :\", accuracy_score(y_train, ypred_train))\n",
    "print(\"Test ACcuracy :\", accuracy_score(y_test, ypred_test))\n",
    "print(\"Cross Validation Score :\", cross_val_score(knn_model, X_train, y_train, cv = 5, scoring = 'accuracy'))"
   ]
  },
  {
   "cell_type": "markdown",
   "id": "35f567b6",
   "metadata": {},
   "source": [
    "#### 3. Support Vector Machine (SVM)"
   ]
  },
  {
   "cell_type": "code",
   "execution_count": 61,
   "id": "32f929c1",
   "metadata": {},
   "outputs": [
    {
     "name": "stdout",
     "output_type": "stream",
     "text": [
      "Train Accuracy : 0.8226950354609929\n",
      "Test Accuract : 0.7830188679245284\n",
      "Cross Validation Score : [0.82352941 0.8        0.81176471 0.83333333 0.8452381 ]\n"
     ]
    }
   ],
   "source": [
    "from sklearn.svm import SVC\n",
    "estimator = SVC()\n",
    "\n",
    "param_grid = {'C':[0.01, 0.1, 1], 'kernel':['linear','rbf','sigmoid','poly']}\n",
    "\n",
    "from sklearn.model_selection import GridSearchCV\n",
    "svm_grid = GridSearchCV(estimator, param_grid, scoring = 'accuracy', cv = 5)\n",
    "svm_grid.fit(X_train, y_train)\n",
    "\n",
    "svm_model = svm_grid.best_estimator_\n",
    "\n",
    "ypred_train = svm_model.predict(X_train)\n",
    "ypred_test = svm_model.predict(X_test)\n",
    "\n",
    "print(\"Train Accuracy :\", accuracy_score(y_train , ypred_train))\n",
    "print(\"Test Accuract :\", accuracy_score(y_test, ypred_test))\n",
    "print(\"Cross Validation Score :\", cross_val_score(svm_model, X_train, y_train , cv = 5, scoring = 'accuracy'))"
   ]
  },
  {
   "cell_type": "markdown",
   "id": "136e32f6",
   "metadata": {},
   "source": [
    "#### 4. Decision Tree Classifier\n",
    "Steps:\n",
    "* Apply the hyperparameter tuning & identify the best model.\n",
    "* Using the best model identify the important features of each column.\n",
    "* In the feature importance identify the important features where the importance greator than 0.\n",
    "* Create a new data set with important features only.\n",
    "* Train with best model and important features\n",
    "* Evaluate the best model"
   ]
  },
  {
   "cell_type": "code",
   "execution_count": 62,
   "id": "43e8f294",
   "metadata": {},
   "outputs": [
    {
     "name": "stdout",
     "output_type": "stream",
     "text": [
      "Train Accuracy : 0.8226950354609929\n",
      "Test ACcuracy : 0.7830188679245284\n",
      "Cross Validation Score : 0.8227731092436976\n"
     ]
    }
   ],
   "source": [
    "from sklearn.tree import DecisionTreeClassifier\n",
    "\n",
    "estimator = DecisionTreeClassifier(random_state = 70)\n",
    "param_grid = {'criterion':['gini','entropy'],\n",
    "             'max_depth':list(range(1,16))}\n",
    "\n",
    "from sklearn.model_selection import GridSearchCV\n",
    "dt_grid = GridSearchCV(estimator, param_grid, scoring = 'accuracy', cv = 5)\n",
    "dt_grid.fit(X_train, y_train)\n",
    "\n",
    "dt = dt_grid.best_estimator_\n",
    "dt_fi = dt.feature_importances_\n",
    "\n",
    "index = [i for i, x in enumerate(dt_fi) if x> 0]\n",
    "\n",
    "\n",
    "X_train_dt = X_train.iloc[:, index]\n",
    "X_test_dt = X_test.iloc[:, index]\n",
    "\n",
    "dt.fit(X_train_dt , y_train)\n",
    "\n",
    "ypred_train = dt.predict(X_train_dt)\n",
    "ypred_test = dt.predict(X_test_dt)\n",
    "\n",
    "print(\"Train Accuracy :\", accuracy_score(y_train, ypred_train))\n",
    "print(\"Test ACcuracy :\", accuracy_score(y_test, ypred_test))\n",
    "print(\"Cross Validation Score :\", cross_val_score(dt, X_train, y_train, cv = 5, scoring = 'accuracy').mean())\n",
    "\n"
   ]
  },
  {
   "cell_type": "markdown",
   "id": "025228ae",
   "metadata": {},
   "source": [
    "#### 5. Random Forest Classifier"
   ]
  },
  {
   "cell_type": "code",
   "execution_count": 63,
   "id": "e21c92b1",
   "metadata": {},
   "outputs": [
    {
     "name": "stdout",
     "output_type": "stream",
     "text": [
      "Train Accuracy : 0.9952718676122931\n",
      "Test ACcuracy : 0.7547169811320755\n",
      "Cross Validation Score : 0.8038375350140056\n"
     ]
    }
   ],
   "source": [
    "from sklearn.ensemble import RandomForestClassifier\n",
    "\n",
    "estimator = RandomForestClassifier(random_state = 70)\n",
    "param_grid = {'n_estimators':list(range(1,16))}\n",
    "\n",
    "from sklearn.model_selection import GridSearchCV\n",
    "rf_grid = GridSearchCV(estimator, param_grid, scoring = 'accuracy', cv = 5)\n",
    "rf_grid.fit(X_train, y_train)\n",
    "\n",
    "rf = rf_grid.best_estimator_\n",
    "rf_fi = rf.feature_importances_\n",
    "\n",
    "index = [i for i, x in enumerate(rf_fi) if x> 0]\n",
    "\n",
    "\n",
    "X_train_rf = X_train.iloc[:, index]\n",
    "X_test_rf = X_test.iloc[:, index]\n",
    "\n",
    "rf.fit(X_train_rf , y_train)\n",
    "\n",
    "ypred_train = rf.predict(X_train_rf)\n",
    "ypred_test = rf.predict(X_test_rf)\n",
    "\n",
    "print(\"Train Accuracy :\", accuracy_score(y_train, ypred_train))\n",
    "print(\"Test ACcuracy :\", accuracy_score(y_test, ypred_test))\n",
    "print(\"Cross Validation Score :\", cross_val_score(rf, X_train, y_train, cv = 5, scoring = 'accuracy').mean())"
   ]
  },
  {
   "cell_type": "markdown",
   "id": "6c543698",
   "metadata": {},
   "source": [
    "#### 6. AdaBoost"
   ]
  },
  {
   "cell_type": "code",
   "execution_count": 64,
   "id": "d094ccce",
   "metadata": {},
   "outputs": [
    {
     "name": "stdout",
     "output_type": "stream",
     "text": [
      "Train Accuracy : 0.9905437352245863\n",
      "Test ACcuracy : 0.7641509433962265\n",
      "Cross Validation Score : 0.8063025210084034\n"
     ]
    }
   ],
   "source": [
    "from sklearn.ensemble import AdaBoostClassifier\n",
    "\n",
    "estimator = RandomForestClassifier(random_state = 70)\n",
    "param_grid = {'n_estimators':list(range(1,51))}\n",
    "\n",
    "from sklearn.model_selection import GridSearchCV\n",
    "ab_grid = GridSearchCV(estimator, param_grid, scoring = 'accuracy', cv = 5)\n",
    "ab_grid.fit(X_train, y_train)\n",
    "\n",
    "ab = ab_grid.best_estimator_\n",
    "ab_fi = ab.feature_importances_\n",
    "\n",
    "index = [i for i, x in enumerate(ab_fi) if x> 0]\n",
    "\n",
    "\n",
    "X_train_ab = X_train.iloc[:, index]\n",
    "X_test_ab = X_test.iloc[:, index]\n",
    "\n",
    "ab.fit(X_train_ab , y_train)\n",
    "\n",
    "ypred_train = ab.predict(X_train_ab)\n",
    "ypred_test = ab.predict(X_test_ab)\n",
    "\n",
    "print(\"Train Accuracy :\", accuracy_score(y_train, ypred_train))\n",
    "print(\"Test ACcuracy :\", accuracy_score(y_test, ypred_test))\n",
    "print(\"Cross Validation Score :\", cross_val_score(ab, X_train, y_train, cv = 5, scoring = 'accuracy').mean())\n",
    "\n"
   ]
  },
  {
   "cell_type": "markdown",
   "id": "7c1bf02b",
   "metadata": {},
   "source": [
    "#### 7. GradientBoost"
   ]
  },
  {
   "cell_type": "code",
   "execution_count": 65,
   "id": "5270c27b",
   "metadata": {},
   "outputs": [
    {
     "name": "stdout",
     "output_type": "stream",
     "text": [
      "Train Accuracy : 0.8747044917257684\n",
      "Test ACcuracy : 0.7358490566037735\n",
      "Cross Validation Score : 0.8252100840336135\n"
     ]
    }
   ],
   "source": [
    "from sklearn.ensemble import GradientBoostingClassifier\n",
    "\n",
    "estimator = GradientBoostingClassifier(random_state = 70)\n",
    "param_grid = {'n_estimators':list(range(1,10)), 'learning_rate':[0.1,0.2,0.3,0.4,0.5,0.6,0.7,0.8,0.9]}\n",
    "\n",
    "from sklearn.model_selection import GridSearchCV\n",
    "gb_grid = GridSearchCV(estimator, param_grid, scoring = 'accuracy', cv = 5)\n",
    "gb_grid.fit(X_train, y_train)\n",
    "\n",
    "gb = gb_grid.best_estimator_\n",
    "gb_fi = gb.feature_importances_\n",
    "\n",
    "index = [i for i, x in enumerate(gb_fi) if x> 0]\n",
    "\n",
    "\n",
    "X_train_gb = X_train.iloc[:, index]\n",
    "X_test_gb = X_test.iloc[:, index]\n",
    "\n",
    "gb.fit(X_train_gb , y_train)\n",
    "\n",
    "ypred_train = gb.predict(X_train_gb)\n",
    "ypred_test = gb.predict(X_test_gb)\n",
    "\n",
    "print(\"Train Accuracy :\", accuracy_score(y_train, ypred_train))\n",
    "print(\"Test ACcuracy :\", accuracy_score(y_test, ypred_test))\n",
    "print(\"Cross Validation Score :\", cross_val_score(gb, X_train, y_train, cv = 5, scoring = 'accuracy').mean())\n",
    "\n"
   ]
  },
  {
   "cell_type": "markdown",
   "id": "4d11c644",
   "metadata": {},
   "source": [
    "#### 8. XGBoost"
   ]
  },
  {
   "cell_type": "code",
   "execution_count": 66,
   "id": "78879348",
   "metadata": {},
   "outputs": [
    {
     "name": "stdout",
     "output_type": "stream",
     "text": [
      "Train Accuracy : 0.8557919621749409\n",
      "Test ACcuracy : 0.7735849056603774\n",
      "Cross Validation Score : 0.8298599439775911\n"
     ]
    }
   ],
   "source": [
    "from xgboost import XGBClassifier\n",
    "\n",
    "estimator = XGBClassifier(random_state = 70)\n",
    "param_grid = {'n_estimators':[10,20,40,100], 'max_depth':[3,4,5], 'gamma':[0,0.15,0.3,0.45,0.6,0.75,0.90]}\n",
    "\n",
    "from sklearn.model_selection import GridSearchCV\n",
    "xgb_grid = GridSearchCV(estimator, param_grid, scoring = 'accuracy', cv = 5)\n",
    "xgb_grid.fit(X_train, y_train)\n",
    "\n",
    "xgb = xgb_grid.best_estimator_\n",
    "xgb_fi = xgb.feature_importances_\n",
    "\n",
    "index = [i for i, x in enumerate(xgb_fi) if x> 0]\n",
    "\n",
    "\n",
    "X_train_xgb = X_train.iloc[:, index]\n",
    "X_test_xgb = X_test.iloc[:, index]\n",
    "\n",
    "xgb.fit(X_train_xgb , y_train)\n",
    "\n",
    "ypred_train = xgb.predict(X_train_xgb)\n",
    "ypred_test = xgb.predict(X_test_xgb)\n",
    "\n",
    "print(\"Train Accuracy :\", accuracy_score(y_train, ypred_train))\n",
    "print(\"Test ACcuracy :\", accuracy_score(y_test, ypred_test))\n",
    "print(\"Cross Validation Score :\", cross_val_score(xgb, X_train, y_train, cv = 5, scoring = 'accuracy').mean())\n",
    "\n"
   ]
  },
  {
   "cell_type": "markdown",
   "id": "3d47bf54",
   "metadata": {},
   "source": [
    "#### Here SVM , DT aur LR have same accuracy\n",
    "* we will give the last priority to **SVM & KNN** since it takes the whole lot of time\n",
    "* Now in **LR & DT** we will use the DT because it just uses the 1 column but LR uses 10 columns so Our Dt model will be best used for predictions\n",
    "# Final Model : DecisionTreeClassifier"
   ]
  },
  {
   "cell_type": "code",
   "execution_count": 67,
   "id": "36963e07",
   "metadata": {},
   "outputs": [
    {
     "name": "stdout",
     "output_type": "stream",
     "text": [
      "Train Accuracy : 0.8226950354609929\n",
      "Test ACcuracy : 0.7830188679245284\n",
      "Cross Validation Score : 0.8227731092436976\n"
     ]
    }
   ],
   "source": [
    "from sklearn.tree import DecisionTreeClassifier\n",
    "\n",
    "estimator = DecisionTreeClassifier(random_state = 70)\n",
    "param_grid = {'criterion':['gini','entropy'],\n",
    "             'max_depth':list(range(1,16))}\n",
    "\n",
    "from sklearn.model_selection import GridSearchCV\n",
    "dt_grid = GridSearchCV(estimator, param_grid, scoring = 'accuracy', cv = 5)\n",
    "dt_grid.fit(X_train, y_train)\n",
    "\n",
    "dt = dt_grid.best_estimator_\n",
    "dt_fi = dt.feature_importances_\n",
    "\n",
    "index = [i for i, x in enumerate(dt_fi) if x> 0]\n",
    "\n",
    "\n",
    "X_train_dt = X_train.iloc[:, index]\n",
    "X_test_dt = X_test.iloc[:, index]\n",
    "\n",
    "dt.fit(X_train_dt , y_train)\n",
    "\n",
    "ypred_train = dt.predict(X_train_dt)\n",
    "ypred_test = dt.predict(X_test_dt)\n",
    "\n",
    "print(\"Train Accuracy :\", accuracy_score(y_train, ypred_train))\n",
    "print(\"Test ACcuracy :\", accuracy_score(y_test, ypred_test))\n",
    "print(\"Cross Validation Score :\", cross_val_score(dt, X_train, y_train, cv = 5, scoring = 'accuracy').mean())"
   ]
  },
  {
   "cell_type": "code",
   "execution_count": null,
   "id": "fe1db689",
   "metadata": {},
   "outputs": [],
   "source": []
  }
 ],
 "metadata": {
  "kernelspec": {
   "display_name": "Python 3 (ipykernel)",
   "language": "python",
   "name": "python3"
  },
  "language_info": {
   "codemirror_mode": {
    "name": "ipython",
    "version": 3
   },
   "file_extension": ".py",
   "mimetype": "text/x-python",
   "name": "python",
   "nbconvert_exporter": "python",
   "pygments_lexer": "ipython3",
   "version": "3.11.4"
  }
 },
 "nbformat": 4,
 "nbformat_minor": 5
}
